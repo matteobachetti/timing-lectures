{
 "cells": [
  {
   "cell_type": "code",
   "execution_count": 1,
   "metadata": {},
   "outputs": [],
   "source": [
    "%load_ext autoreload\n",
    "%autoreload 2\n",
    "%matplotlib inline\n",
    "import copy\n",
    "import matplotlib.pyplot as plt\n",
    "\n",
    "# try:\n",
    "#     import seaborn as sns\n",
    "#     sns.set_palette(\"colorblind\")\n",
    "# except ImportError:\n",
    "#     print(\"Install seaborn. It help you make prettier figures!\")\n",
    "\n",
    "import numpy as np\n",
    "\n",
    "from astropy.modeling import models"
   ]
  },
  {
   "cell_type": "markdown",
   "metadata": {},
   "source": [
    "## Fitting power spectra with standard chi squared minimization\n",
    "\n",
    "![oh_deer.png](oh_deer.png)"
   ]
  },
  {
   "cell_type": "code",
   "execution_count": 2,
   "metadata": {},
   "outputs": [],
   "source": [
    "# define power law component\n",
    "pl = models.PowerLaw1D()\n",
    "\n",
    "# fix x_0 of power law component\n",
    "pl.x_0.fixed = True\n",
    "\n",
    "# define constant\n",
    "c = models.Const1D()\n",
    "\n",
    "# make compound model\n",
    "plc = pl + c"
   ]
  },
  {
   "cell_type": "markdown",
   "metadata": {},
   "source": [
    "We're going to pick some fairly standard parameters for our data:"
   ]
  },
  {
   "cell_type": "code",
   "execution_count": 3,
   "metadata": {},
   "outputs": [],
   "source": [
    "# parameters for fake data.\n",
    "alpha = 2.0\n",
    "amplitude = 5.0\n",
    "white_noise = 2.0\n",
    "\n"
   ]
  },
  {
   "cell_type": "markdown",
   "metadata": {},
   "source": [
    "And now a frequency array:"
   ]
  },
  {
   "cell_type": "code",
   "execution_count": 4,
   "metadata": {},
   "outputs": [],
   "source": [
    "freq = np.linspace(0.01, 10.0, int(10.0/0.01))"
   ]
  },
  {
   "cell_type": "markdown",
   "metadata": {},
   "source": [
    "Now we can set the parameters in the model:"
   ]
  },
  {
   "cell_type": "code",
   "execution_count": 5,
   "metadata": {},
   "outputs": [
    {
     "data": {
      "text/plain": [
       "<CompoundModel(amplitude_0=1., x_0_0=1., alpha_0=1., amplitude_1=1.)>"
      ]
     },
     "execution_count": 5,
     "metadata": {},
     "output_type": "execute_result"
    }
   ],
   "source": [
    "plc"
   ]
  },
  {
   "cell_type": "code",
   "execution_count": 6,
   "metadata": {},
   "outputs": [],
   "source": [
    "from astropy.modeling.fitting import _fitter_to_model_params\n",
    "\n",
    "# Gory details not needed...\n",
    "_fitter_to_model_params(plc, [amplitude, alpha, white_noise])"
   ]
  },
  {
   "cell_type": "code",
   "execution_count": 7,
   "metadata": {},
   "outputs": [
    {
     "data": {
      "text/plain": [
       "array([5., 1., 2., 2.])"
      ]
     },
     "execution_count": 7,
     "metadata": {},
     "output_type": "execute_result"
    }
   ],
   "source": [
    "plc.parameters"
   ]
  },
  {
   "cell_type": "code",
   "execution_count": 8,
   "metadata": {},
   "outputs": [],
   "source": [
    "psd_shape = plc(freq)\n"
   ]
  },
  {
   "cell_type": "markdown",
   "metadata": {},
   "source": [
    "As a last step, we need to add noise by picking from a chi-square distribution with 2 degrees of freedom:"
   ]
  },
  {
   "cell_type": "code",
   "execution_count": 9,
   "metadata": {},
   "outputs": [],
   "source": [
    "powers = psd_shape / 2.0 * np.random.chisquare(2, size=psd_shape.shape[0])"
   ]
  },
  {
   "cell_type": "markdown",
   "metadata": {},
   "source": [
    "Let's plot the result:"
   ]
  },
  {
   "cell_type": "code",
   "execution_count": 10,
   "metadata": {},
   "outputs": [
    {
     "data": {
      "image/png": "[encoded data removed]",
      "text/plain": [
       "<Figure size 432x288 with 1 Axes>"
      ]
     },
     "metadata": {
      "needs_background": "light"
     },
     "output_type": "display_data"
    }
   ],
   "source": [
    "def plot_data_and_models(x, y, real_model, fit_model=None):\n",
    "    plt.figure()\n",
    "    plt.loglog(x, y, linestyle=\"steps-mid\", label=\"Data\")\n",
    "    plt.plot(x, real_model(x), label=\"Real model\", lw=2, color='k')\n",
    "    if fit_model is not None:\n",
    "        plt.plot(x, fit_model(x), label=\"Fit model\", lw=2)\n",
    "    plt.legend()\n",
    "    plt.xlabel(\"Frequency (Hz)\")\n",
    "    plt.ylabel(\"Power\")\n",
    "\n",
    "plot_data_and_models(freq, powers, plc)\n",
    "plt.savefig('__real_pds.jpg', dpi=300)\n"
   ]
  },
  {
   "cell_type": "markdown",
   "metadata": {},
   "source": [
    "Let's now try to fit the results by using standard chi squared minimization."
   ]
  },
  {
   "cell_type": "code",
   "execution_count": 11,
   "metadata": {},
   "outputs": [
    {
     "name": "stdout",
     "output_type": "stream",
     "text": [
      "Model: CompoundModel\n",
      "Inputs: ('x',)\n",
      "Outputs: ('y',)\n",
      "Model set size: 1\n",
      "Expression: [0] + [1]\n",
      "Components: \n",
      "    [0]: <PowerLaw1D(amplitude=5., x_0=1., alpha=2.)>\n",
      "\n",
      "    [1]: <Const1D(amplitude=2.)>\n",
      "Parameters:\n",
      "    amplitude_0 x_0_0 alpha_0 amplitude_1\n",
      "    ----------- ----- ------- -----------\n",
      "            5.0   1.0     2.0         2.0\n",
      "Model: CompoundModel\n",
      "Inputs: ('x',)\n",
      "Outputs: ('y',)\n",
      "Model set size: 1\n",
      "Expression: [0] + [1]\n",
      "Components: \n",
      "    [0]: <PowerLaw1D(amplitude=0.62119481, x_0=1., alpha=2.6141749)>\n",
      "\n",
      "    [1]: <Const1D(amplitude=4.51691734)>\n",
      "Parameters:\n",
      "       amplitude_0     x_0_0      alpha_0          amplitude_1   \n",
      "    ------------------ ----- ------------------ -----------------\n",
      "    0.6211948124890259   1.0 2.6141749025871697 4.516917338956032\n"
     ]
    },
    {
     "data": {
      "image/png": "[encoded data removed]",
      "text/plain": [
       "<Figure size 432x288 with 1 Axes>"
      ]
     },
     "metadata": {
      "needs_background": "light"
     },
     "output_type": "display_data"
    }
   ],
   "source": [
    "from astropy.modeling import fitting\n",
    "\n",
    "def fit_pl_model_to_data(x, y):\n",
    "    pfit = fitting.SimplexLSQFitter()\n",
    "\n",
    "    p2 = models.PowerLaw1D(alpha=2, amplitude=5)\n",
    "    c2 = models.Const1D(2)\n",
    "    p2.x_0.fixed = True\n",
    "#     c2.amplitude.fixed = True\n",
    "    c2.amplitude.bounds = [0, None]\n",
    "\n",
    "    model2 = p2 + c2\n",
    "    print(model2)\n",
    "\n",
    "    new_model = pfit(model2, x, y)\n",
    "    print(new_model)\n",
    "    return new_model\n",
    "\n",
    "new_model = fit_pl_model_to_data(freq, powers)\n",
    "plot_data_and_models(freq, powers, plc, new_model)\n",
    "plt.savefig('__real_pds_bad_fit.jpg', dpi=300)\n"
   ]
  },
  {
   "cell_type": "markdown",
   "metadata": {},
   "source": [
    "Ok, of course it can't work. We need _Gaussian_ random numbers. An easy way to do that is averaging over many points and use the central limit theorem.\n"
   ]
  },
  {
   "cell_type": "code",
   "execution_count": 12,
   "metadata": {},
   "outputs": [
    {
     "name": "stdout",
     "output_type": "stream",
     "text": [
      "Model: CompoundModel\n",
      "Inputs: ('x',)\n",
      "Outputs: ('y',)\n",
      "Model set size: 1\n",
      "Expression: [0] + [1]\n",
      "Components: \n",
      "    [0]: <PowerLaw1D(amplitude=5., x_0=1., alpha=2.)>\n",
      "\n",
      "    [1]: <Const1D(amplitude=2.)>\n",
      "Parameters:\n",
      "    amplitude_0 x_0_0 alpha_0 amplitude_1\n",
      "    ----------- ----- ------- -----------\n",
      "            5.0   1.0     2.0         2.0\n",
      "Model: CompoundModel\n",
      "Inputs: ('x',)\n",
      "Outputs: ('y',)\n",
      "Model set size: 1\n",
      "Expression: [0] + [1]\n",
      "Components: \n",
      "    [0]: <PowerLaw1D(amplitude=2.21721095, x_0=1., alpha=2.97975131)>\n",
      "\n",
      "    [1]: <Const1D(amplitude=2.6979041)>\n",
      "Parameters:\n",
      "       amplitude_0     x_0_0     alpha_0         amplitude_1   \n",
      "    ------------------ ----- ---------------- -----------------\n",
      "    2.2172109512363356   1.0 2.97975131118461 2.697904095877387\n"
     ]
    },
    {
     "data": {
      "text/plain": [
       "[<matplotlib.lines.Line2D at 0x7fa411c317d0>]"
      ]
     },
     "execution_count": 12,
     "metadata": {},
     "output_type": "execute_result"
    },
    {
     "data": {
      "image/png": "[encoded data removed]",
      "text/plain": [
       "<Figure size 432x288 with 1 Axes>"
      ]
     },
     "metadata": {
      "needs_background": "light"
     },
     "output_type": "display_data"
    }
   ],
   "source": [
    "from stingray.utils import rebin_data\n",
    "\n",
    "freq_rebin, powers_rebin, _, _ = rebin_data(freq, powers, 10 * (freq[1] - freq[0]), method='average')\n",
    "\n",
    "new_model = fit_pl_model_to_data(freq_rebin, powers_rebin)\n",
    "plot_data_and_models(freq_rebin, powers_rebin, plc, new_model)\n",
    "plt.loglog(freq, powers, linestyle=\"steps-mid\", label=\"periodogram realization\", alpha=0.3, color='grey')\n"
   ]
  },
  {
   "cell_type": "code",
   "execution_count": 13,
   "metadata": {
    "scrolled": true
   },
   "outputs": [
    {
     "name": "stdout",
     "output_type": "stream",
     "text": [
      "Model: CompoundModel\n",
      "Inputs: ('x',)\n",
      "Outputs: ('y',)\n",
      "Model set size: 1\n",
      "Expression: [0] + [1]\n",
      "Components: \n",
      "    [0]: <PowerLaw1D(amplitude=5., x_0=1., alpha=2.)>\n",
      "\n",
      "    [1]: <Const1D(amplitude=2.)>\n",
      "Parameters:\n",
      "    amplitude_0 x_0_0 alpha_0 amplitude_1\n",
      "    ----------- ----- ------- -----------\n",
      "            5.0   1.0     2.0         2.0\n",
      "Model: CompoundModel\n",
      "Inputs: ('x',)\n",
      "Outputs: ('y',)\n",
      "Model set size: 1\n",
      "Expression: [0] + [1]\n",
      "Components: \n",
      "    [0]: <PowerLaw1D(amplitude=3.18877034, x_0=1., alpha=3.86433461)>\n",
      "\n",
      "    [1]: <Const1D(amplitude=1.19178276)>\n",
      "Parameters:\n",
      "       amplitude_0     x_0_0      alpha_0         amplitude_1    \n",
      "    ------------------ ----- ----------------- ------------------\n",
      "    3.1887703413497652   1.0 3.864334610958224 1.1917827619174468\n"
     ]
    },
    {
     "data": {
      "image/png": "[encoded data removed]",
      "text/plain": [
       "<Figure size 432x288 with 1 Axes>"
      ]
     },
     "metadata": {
      "needs_background": "light"
     },
     "output_type": "display_data"
    }
   ],
   "source": [
    "from stingray.utils import rebin_data\n",
    "\n",
    "freq_rebin, powers_rebin, _, _ = rebin_data(freq, powers, 30 * (freq[1] - freq[0]), method='average')\n",
    "\n",
    "new_model = fit_pl_model_to_data(freq_rebin, powers_rebin)\n",
    "plot_data_and_models(freq_rebin, powers_rebin, plc, new_model)\n",
    "plt.loglog(freq, powers, linestyle=\"steps-mid\", label=\"periodogram realization\", alpha=0.3, color='grey')\n",
    "plt.savefig('__real_pds_rebin_fit.jpg', dpi=300)\n"
   ]
  },
  {
   "cell_type": "code",
   "execution_count": 14,
   "metadata": {},
   "outputs": [
    {
     "name": "stdout",
     "output_type": "stream",
     "text": [
      "Model: CompoundModel\n",
      "Inputs: ('x',)\n",
      "Outputs: ('y',)\n",
      "Model set size: 1\n",
      "Expression: [0] + [1]\n",
      "Components: \n",
      "    [0]: <PowerLaw1D(amplitude=3.18877034, x_0=1., alpha=3.86433461)>\n",
      "\n",
      "    [1]: <Const1D(amplitude=1.19178276)>\n",
      "Parameters:\n",
      "       amplitude_0     x_0_0      alpha_0         amplitude_1    \n",
      "    ------------------ ----- ----------------- ------------------\n",
      "    3.1887703413497652   1.0 3.864334610958224 1.1917827619174468\n"
     ]
    }
   ],
   "source": [
    "print(new_model)"
   ]
  },
  {
   "cell_type": "markdown",
   "metadata": {},
   "source": [
    "## Likelihoods and Posteriors\n",
    "\n",
    "In general, model fitting will happen either in a frequentist (Maximum Likelihood) or Bayesian framework. Stingray's strategy is to let the user define a posterior in both cases, but ignore the prior in the former case. \n"
   ]
  },
  {
   "cell_type": "markdown",
   "metadata": {},
   "source": [
    "## Maximum Likelihood Fitting\n",
    "\n",
    "Let's assume we've observed this periodogram from our source. We would now like to estimate the parameters. \n",
    "This requires the definition of *likelihood*, which describes the probability of observing the data plotted above given some underlying model with a specific set of parameters. To say it differently, the likelihood encodes what we know about the underlying model (here a power law and a constant) and the statistical properties of the data (power spectra generally follow a chi-square distribution) and then allows us to compare data and model for various parameters under the assumption of the statistical uncertainties.\n",
    "\n",
    "In order to find the best parameter set, one generally maximizes the likelihood function using an optimization algorithm. Because optimization algorithms generally *minimize* functions, they effectively minimize the log-likelihood, which comes out to be the same as maximizing the likelihood itself.\n",
    "\n",
    "Below is an implementation of the $\\chi^2$ likelihood as appropriate for power spectral analysis, with comments for easier understanding. The same is also implemented in `posterior.py` in Stingray:"
   ]
  },
  {
   "cell_type": "code",
   "execution_count": 15,
   "metadata": {
    "scrolled": true
   },
   "outputs": [],
   "source": [
    "logmin = -1e16\n",
    "class PSDLogLikelihood(object):\n",
    "\n",
    "    def __init__(self, freq, power, model, m=1):\n",
    "        \"\"\"\n",
    "        A Chi-square likelihood as appropriate for power spectral analysis.\n",
    "\n",
    "        Parameters\n",
    "        ----------\n",
    "        freq : iterable\n",
    "            x-coordinate of the data\n",
    "\n",
    "        power : iterable\n",
    "            y-coordinte of the data\n",
    "\n",
    "        model: an Astropy Model instance\n",
    "            The model to use in the likelihood.\n",
    "\n",
    "        m : int\n",
    "            1/2 of the degrees of freedom, i.e. the number of powers \n",
    "            that were averaged to obtain the power spectrum input into \n",
    "            this routine.\n",
    "\n",
    "        \"\"\"\n",
    "        \n",
    "        self.x = ps.freq # the x-coordinate of the data (frequency array)\n",
    "        self.y = ps.power # the y-coordinate of the data (powers)\n",
    "        self.model = model # an astropy.models instance\n",
    "        self.m = m\n",
    "    \n",
    "        self.params = [k for k,l in self.model.fixed.items() if not l]\n",
    "        self.npar = len(self.params) # number of free parameters\n",
    "\n",
    "    def evaluate(self, pars, neg=False):\n",
    "        \"\"\"\n",
    "        Evaluate the log-likelihood.\n",
    "        \n",
    "        Parameters\n",
    "        ----------\n",
    "        pars : iterable\n",
    "            The list of parameters for which to evaluate the model.\n",
    "            \n",
    "        neg : bool, default False\n",
    "            If True, compute the *negative* log-likelihood, otherwise \n",
    "            compute the *positive* log-likelihood.\n",
    "        \n",
    "        Returns\n",
    "        -------\n",
    "        loglike : float\n",
    "            The log-likelihood of the model\n",
    "        \n",
    "        \"\"\"\n",
    "        # raise an error if the length of the parameter array input into \n",
    "        # this method doesn't match the number of free parameters in the model\n",
    "        if np.size(pars) != self.npar:\n",
    "            raise Exception(\"Input parameters must\" +\n",
    "                            \" match model parameters!\")\n",
    "\n",
    "        # set parameters in self.model to the parameter set to be used for \n",
    "        # evaluation\n",
    "        _fitter_to_model_params(self.model, pars)\n",
    "\n",
    "        # compute the values of the model at the positions self.x\n",
    "        mean_model = self.model(self.x)\n",
    "\n",
    "        # if the power spectrum isn't averaged, compute simple exponential \n",
    "        # likelihood (chi-square likelihood for 2 degrees of freedom)\n",
    "        if self.m == 1:\n",
    "            loglike = -np.sum(np.log(mean_model)) - \\\n",
    "                      np.sum(self.y/mean_model)\n",
    "        # otherwise use chi-square distribution to compute likelihood\n",
    "        else:\n",
    "            loglike = -2.0*self.m*(np.sum(np.log(mean_model)) +\n",
    "                               np.sum(self.y/mean_model) +\n",
    "                               np.sum((2.0 / (2. * self.m) - 1.0) *\n",
    "                                      np.log(self.y)))\n",
    "\n",
    "        if not np.isfinite(loglike):\n",
    "            loglike = logmin\n",
    "\n",
    "        if neg:\n",
    "            return -loglike\n",
    "        else:\n",
    "            return loglike\n",
    "        \n",
    "    def __call__(self, parameters, neg=False):\n",
    "        return self.evaluate(parameters, neg)"
   ]
  },
  {
   "cell_type": "markdown",
   "metadata": {},
   "source": [
    "Let's make an object and see what it calculates if we put in different parameter sets. First, we have to make our sample PSD into an actual `Powerspectrum` object:"
   ]
  },
  {
   "cell_type": "code",
   "execution_count": 16,
   "metadata": {},
   "outputs": [],
   "source": [
    "from stingray import Powerspectrum\n",
    "p2 = models.PowerLaw1D(alpha=1, amplitude=1)\n",
    "c2 = models.Const1D(2)\n",
    "p2.x_0.fixed = True\n",
    "c2.amplitude.bounds = [0, None]\n",
    "\n",
    "model2 = p2 + c2\n",
    "\n",
    "ps = Powerspectrum()\n",
    "ps.freq = freq\n",
    "ps.power = powers\n",
    "ps.df = ps.freq[1] - ps.freq[0]\n",
    "ps.m = 1"
   ]
  },
  {
   "cell_type": "code",
   "execution_count": 17,
   "metadata": {},
   "outputs": [],
   "source": [
    "loglike = PSDLogLikelihood(ps.freq, ps.power, copy.deepcopy(model2), m=ps.m)"
   ]
  },
  {
   "cell_type": "code",
   "execution_count": 18,
   "metadata": {},
   "outputs": [
    {
     "data": {
      "text/plain": [
       "-4835.882930368949"
      ]
     },
     "execution_count": 18,
     "metadata": {},
     "output_type": "execute_result"
    }
   ],
   "source": [
    "test_pars = [1, 5, 100]\n",
    "loglike(test_pars)"
   ]
  },
  {
   "cell_type": "code",
   "execution_count": 19,
   "metadata": {
    "scrolled": true
   },
   "outputs": [
    {
     "data": {
      "text/plain": [
       "-2328.678021046686"
      ]
     },
     "execution_count": 19,
     "metadata": {},
     "output_type": "execute_result"
    }
   ],
   "source": [
    "test_pars = [2.0, 5.0, 2.0]\n",
    "loglike(test_pars)"
   ]
  },
  {
   "cell_type": "code",
   "execution_count": 20,
   "metadata": {},
   "outputs": [
    {
     "data": {
      "text/plain": [
       "-2822.8760008787535"
      ]
     },
     "execution_count": 20,
     "metadata": {},
     "output_type": "execute_result"
    }
   ],
   "source": [
    "test_pars = [4.0, 10, 2.5]\n",
    "loglike(test_pars)"
   ]
  },
  {
   "cell_type": "markdown",
   "metadata": {},
   "source": [
    "Something close to the parameters we put in should yield the largest log-likelihood. Feel free to play around with the test parameters to verify that this is true.\n",
    "\n",
    "You can similarly import the `PSDLogLikelihood` class from `stingray.modeling` and do the same:\n",
    "\n"
   ]
  },
  {
   "cell_type": "code",
   "execution_count": 21,
   "metadata": {},
   "outputs": [],
   "source": [
    "from stingray.modeling import PSDLogLikelihood\n",
    "\n",
    "loglike = PSDLogLikelihood(ps.freq, ps.power, copy.deepcopy(model2), m=ps.m)\n"
   ]
  },
  {
   "cell_type": "markdown",
   "metadata": {},
   "source": [
    "To estimate the parameters, we can use an optimization routine, such as those implemented in `scipy.optimize.minimize`.\n",
    "We have wrapped some code around that, to make your lives easier. We will not reproduce the full code here, just demonstrate its functionality.\n",
    "\n",
    "Now we can instantiate the `PSDParEst` (for PSD Parameter Estimation) object. This can do more than simply optimize a single model, but we'll get to that later.\n",
    "\n",
    "The `PSDParEst` object allows one to specify the fit method to use (however, this must be one of the optimizers in `scipy.optimize`). The parameter `max_post` allows for doing maximum-a-posteriori fits on the Bayesian posterior rather than maximum likelihood fits (see below for more details). We'll set it to `False` for now, since we haven't defined any priors:"
   ]
  },
  {
   "cell_type": "code",
   "execution_count": 22,
   "metadata": {},
   "outputs": [],
   "source": [
    "from stingray.modeling import PSDParEst\n",
    "\n",
    "parest = PSDParEst(ps, fitmethod=\"L-BFGS-B\", max_post=False)"
   ]
  },
  {
   "cell_type": "markdown",
   "metadata": {},
   "source": [
    "In order to fit a model, make an instance of the appropriate `LogLikelihood` or `Posterior` subclass, andsimply call the `fit` method with that instance and starting parameters you would like to fit."
   ]
  },
  {
   "cell_type": "code",
   "execution_count": 23,
   "metadata": {},
   "outputs": [],
   "source": [
    "loglike = PSDLogLikelihood(ps.freq, ps.power, copy.deepcopy(model2), m=ps.m)"
   ]
  },
  {
   "cell_type": "code",
   "execution_count": 24,
   "metadata": {},
   "outputs": [
    {
     "data": {
      "text/plain": [
       "array([1., 1., 1., 2.])"
      ]
     },
     "execution_count": 24,
     "metadata": {},
     "output_type": "execute_result"
    }
   ],
   "source": [
    "loglike.model.parameters"
   ]
  },
  {
   "cell_type": "code",
   "execution_count": 25,
   "metadata": {},
   "outputs": [
    {
     "data": {
      "text/plain": [
       "3"
      ]
     },
     "execution_count": 25,
     "metadata": {},
     "output_type": "execute_result"
    }
   ],
   "source": [
    "loglike.npar"
   ]
  },
  {
   "cell_type": "code",
   "execution_count": 26,
   "metadata": {},
   "outputs": [],
   "source": [
    "starting_pars = [3.0, 1.0, 2.4]\n",
    "res = parest.fit(loglike, starting_pars)"
   ]
  },
  {
   "cell_type": "markdown",
   "metadata": {},
   "source": [
    "The result is an `OptimizationResults` object, which computes various summaries and useful quantities.\n",
    "\n",
    "For example, here's the value of the likelihood function at the maximum the optimizer found:"
   ]
  },
  {
   "cell_type": "code",
   "execution_count": 27,
   "metadata": {},
   "outputs": [
    {
     "data": {
      "text/plain": [
       "2131.837024049136"
      ]
     },
     "execution_count": 27,
     "metadata": {},
     "output_type": "execute_result"
    }
   ],
   "source": [
    "res.result"
   ]
  },
  {
   "cell_type": "markdown",
   "metadata": {},
   "source": [
    "**Note**: Optimizers routinely get stuck in *local* minima (corresponding to local maxima of the likelihood function). It is usually useful to run an optimizer several times with different starting parameters in order to get close to the global maximum.\n",
    "\n",
    "Most useful are the estimates of the parameters at the maximum likelihood and their uncertainties:"
   ]
  },
  {
   "cell_type": "code",
   "execution_count": 28,
   "metadata": {},
   "outputs": [
    {
     "name": "stdout",
     "output_type": "stream",
     "text": [
      "[5.21029333 1.95177661 1.90407848]\n",
      "[0.99375293 0.10120278 0.45742058]\n"
     ]
    }
   ],
   "source": [
    "print(res.p_opt)\n",
    "print(res.err)"
   ]
  },
  {
   "cell_type": "markdown",
   "metadata": {},
   "source": [
    "**Note**: uncertainties are estimated here via the covariance matrix between parameters, i.e. the inverse of the Hessian at the maximum. This only represents the true uncertainties for specific assumptions about the likelihood function (Gaussianity), so use with care!\n",
    "\n",
    "It also computes Akaike Information Criterion (AIC) and the Bayesian Information Criterion (BIC) for model comparison purposes:"
   ]
  },
  {
   "cell_type": "code",
   "execution_count": 29,
   "metadata": {},
   "outputs": [
    {
     "name": "stdout",
     "output_type": "stream",
     "text": [
      "AIC: 2137.837024049136\n",
      "BIC: 2152.560289886082\n"
     ]
    }
   ],
   "source": [
    "print(\"AIC: \" + str(res.aic))\n",
    "print(\"BIC: \" + str(res.bic))"
   ]
  },
  {
   "cell_type": "markdown",
   "metadata": {},
   "source": [
    "Finally, it also produces the values of the mean function for the parameters at the maximum. Let's plot that and compare with the power spectrum we put in:"
   ]
  },
  {
   "cell_type": "code",
   "execution_count": 30,
   "metadata": {},
   "outputs": [
    {
     "data": {
      "image/png": "[encoded data removed]",
      "text/plain": [
       "<Figure size 432x288 with 1 Axes>"
      ]
     },
     "metadata": {
      "needs_background": "light"
     },
     "output_type": "display_data"
    }
   ],
   "source": [
    "plot_data_and_models(ps.freq, ps.power, plc, res.model)\n",
    "plt.savefig('__real_pds_ml_fit.jpg', dpi=300)\n",
    "\n",
    "# plt.figure(figsize=(12,8))\n",
    "# plt.loglog(ps.freq, psd_shape, label=\"true power spectrum\",lw=3)\n",
    "# plt.loglog(ps.freq, ps.power, label=\"simulated data\")\n",
    "# plt.loglog(ps.freq, res.mfit, label=\"best fit\", lw=3)\n",
    "# plt.legend()"
   ]
  },
  {
   "cell_type": "markdown",
   "metadata": {},
   "source": [
    "That looks pretty good!\n",
    "\n",
    "You can print a summary of the fitting results by calling `print_summary`:"
   ]
  },
  {
   "cell_type": "code",
   "execution_count": 31,
   "metadata": {},
   "outputs": [
    {
     "name": "stderr",
     "output_type": "stream",
     "text": [
      "The best-fit model parameters plus errors are:\n",
      "  0) Parameter amplitude_0         : \n",
      "5.21029              +/- 0.99375              \n",
      "[      None       None]\n",
      "  1) Parameter x_0_0               : \n",
      "1.00000              (Fixed) \n",
      "  2) Parameter alpha_0             : \n",
      "1.95178              +/- 0.10120              \n",
      "[      None       None]\n",
      "  3) Parameter amplitude_1         : \n",
      "1.90408              +/- 0.45742              \n",
      "[       0.0       None]\n",
      "\n",
      "\n",
      "Fitting statistics: \n",
      " -- number of data points: 1000\n",
      " -- Deviance [-2 log L] D = 4263.674048.3\n",
      " -- The Akaike Information Criterion of the model is: 2137.837024049136.\n",
      " -- The Bayesian Information Criterion of the model is: 2152.560289886082.\n",
      " -- The figure-of-merit function for this model  is: 957.617082.5f and the fit for 997 dof is 0.960499.3f\n",
      " -- Summed Residuals S = 59961.987285.5f\n",
      " -- Expected S ~ 6000.000000.5 +/- 109.544512.5\n"
     ]
    }
   ],
   "source": [
    "res.print_summary(loglike)"
   ]
  },
  {
   "cell_type": "markdown",
   "metadata": {},
   "source": [
    "### Likelihood Ratios\n",
    "\n",
    "The parameter estimation code has more functionality than act as a simple wrapper around `scipy.optimize`. For example, it allows for easy computation of likelihood ratios. Likelihood ratios are a standard way to perform comparisons between two models (though they are not always statistically meaningful, and should be used with caution!).\n",
    "\n",
    "To demonstrate that, let's make a broken power law model"
   ]
  },
  {
   "cell_type": "code",
   "execution_count": 32,
   "metadata": {},
   "outputs": [],
   "source": [
    "# broken power law model\n",
    "bpl = models.BrokenPowerLaw1D()\n",
    "\n",
    "# add constant\n",
    "bplc = bpl + c"
   ]
  },
  {
   "cell_type": "code",
   "execution_count": 33,
   "metadata": {},
   "outputs": [
    {
     "data": {
      "text/plain": [
       "('amplitude_0', 'x_break_0', 'alpha_1_0', 'alpha_2_0', 'amplitude_1')"
      ]
     },
     "execution_count": 33,
     "metadata": {},
     "output_type": "execute_result"
    }
   ],
   "source": [
    "bplc.param_names"
   ]
  },
  {
   "cell_type": "code",
   "execution_count": 34,
   "metadata": {},
   "outputs": [],
   "source": [
    "# define starting parameters\n",
    "bplc_start_pars = [2.0, 1.0, 3.0, 1.0, 2.5]"
   ]
  },
  {
   "cell_type": "code",
   "execution_count": 35,
   "metadata": {},
   "outputs": [],
   "source": [
    "loglike_bplc = PSDLogLikelihood(ps.freq, ps.power, bplc, m=ps.m)"
   ]
  },
  {
   "cell_type": "code",
   "execution_count": 36,
   "metadata": {},
   "outputs": [],
   "source": [
    "pval, plc_opt, bplc_opt = parest.compute_lrt(loglike, starting_pars, loglike_bplc, bplc_start_pars)"
   ]
  },
  {
   "cell_type": "code",
   "execution_count": 37,
   "metadata": {},
   "outputs": [
    {
     "name": "stdout",
     "output_type": "stream",
     "text": [
      "Likelihood Ratio: 0.7339116290086167\n"
     ]
    }
   ],
   "source": [
    "print(\"Likelihood Ratio: \" + str(pval))"
   ]
  },
  {
   "cell_type": "markdown",
   "metadata": {},
   "source": [
    "\n",
    "## Bayesian Parameter Estimation\n",
    "\n",
    "For Bayesian parameter estimation, we require a prior along with the likelihood defined above. Together, they form the *posterior*, the probability of the parameters given the data, which is what we generally want to compute in science.\n",
    "\n",
    "Since there are no universally accepted priors for a model (they depend on the problem at hand and your physical knowledge about the system), they cannot be easily hard-coded in stingray. Consequently, setting priors is slightly more complex. \n",
    "\n",
    "Analogously to the `LogLikelihood` above, we can also define a `Posterior` object. Each posterior object has three methods: `logprior`, `loglikelihood` and `logposterior`. \n",
    "\n",
    "We have pre-defined some `Posterior` objects in `posterior.py` for common problems, including power spectral analysis. We start by making a `PSDPosterior` object:"
   ]
  },
  {
   "cell_type": "code",
   "execution_count": 38,
   "metadata": {},
   "outputs": [],
   "source": [
    "from stingray.modeling import PSDPosterior"
   ]
  },
  {
   "cell_type": "code",
   "execution_count": 39,
   "metadata": {},
   "outputs": [],
   "source": [
    "p3 = models.PowerLaw1D(alpha=2, amplitude=5)\n",
    "c3 = models.Const1D(2)\n",
    "p3.x_0.fixed = True\n",
    "c3.amplitude.bounds = [0, None]\n",
    "\n",
    "model3 = p3 + c3\n",
    "\n",
    "lpost = PSDPosterior(ps.freq, ps.power, copy.deepcopy(model3), m=ps.m)"
   ]
  },
  {
   "cell_type": "markdown",
   "metadata": {},
   "source": [
    "The priors are set as a dictionary of functions:"
   ]
  },
  {
   "cell_type": "code",
   "execution_count": 40,
   "metadata": {},
   "outputs": [],
   "source": [
    "import scipy.stats\n",
    "\n",
    "# flat prior for the power law index\n",
    "p_alpha = lambda alpha: ((-1. <= alpha) & (alpha <= 5.))\n",
    "\n",
    "# flat prior for the power law amplitude\n",
    "p_amplitude = lambda amplitude: ((0.01 <= amplitude) & (amplitude <= 10.0))\n",
    "\n",
    "# normal prior for the white noise parameter\n",
    "p_whitenoise = lambda white_noise: scipy.stats.norm(2.0, 0.1).pdf(white_noise)\n",
    "\n",
    "priors = {}\n",
    "priors[\"alpha_0\"] = p_alpha\n",
    "priors[\"amplitude_0\"] = p_amplitude\n",
    "priors[\"amplitude_1\"] = p_whitenoise\n"
   ]
  },
  {
   "cell_type": "markdown",
   "metadata": {},
   "source": [
    "There's a function `set_logprior` in `stingray.modeling` that sets the prior correctly:"
   ]
  },
  {
   "cell_type": "code",
   "execution_count": 41,
   "metadata": {},
   "outputs": [],
   "source": [
    "from stingray.modeling import set_logprior"
   ]
  },
  {
   "cell_type": "code",
   "execution_count": 42,
   "metadata": {},
   "outputs": [],
   "source": [
    "lpost.logprior = set_logprior(lpost, priors)"
   ]
  },
  {
   "cell_type": "markdown",
   "metadata": {},
   "source": [
    "You can also set the priors when you instantiate the posterior object:"
   ]
  },
  {
   "cell_type": "code",
   "execution_count": 43,
   "metadata": {},
   "outputs": [],
   "source": [
    "lpost = PSDPosterior(ps.freq, ps.power, copy.deepcopy(model3), priors=priors, m=ps.m)"
   ]
  },
  {
   "cell_type": "markdown",
   "metadata": {},
   "source": [
    "Much like before with the log-likelihood, we can now also compute the log-posterior for various test parameter sets:"
   ]
  },
  {
   "cell_type": "code",
   "execution_count": 44,
   "metadata": {},
   "outputs": [
    {
     "name": "stdout",
     "output_type": "stream",
     "text": [
      "log-prior: -198.61635344021062\n",
      "log-likelihood: -2348.8562782005224\n",
      "log-posterior: -2547.472631640733\n"
     ]
    }
   ],
   "source": [
    "test_pars = [1.0, 2.0, 4.0]\n",
    "print(\"log-prior: \" + str(lpost.logprior(test_pars)))\n",
    "print(\"log-likelihood: \" + str(lpost.loglikelihood(test_pars)))\n",
    "print(\"log-posterior: \" + str(lpost(test_pars)))"
   ]
  },
  {
   "cell_type": "markdown",
   "metadata": {},
   "source": [
    "When the prior is zero (so the log-prior is -infinity), it automatically gets set to a very small value in order to avoid problems when doing the optimization:"
   ]
  },
  {
   "cell_type": "code",
   "execution_count": 45,
   "metadata": {},
   "outputs": [
    {
     "name": "stdout",
     "output_type": "stream",
     "text": [
      "log-prior: -1e+16\n",
      "log-likelihood: -2496.346240509489\n",
      "log-posterior: -1e+16\n"
     ]
    }
   ],
   "source": [
    "test_pars = [6, 6, 3.0]\n",
    "print(\"log-prior: \" + str(lpost.logprior(test_pars)))\n",
    "print(\"log-likelihood: \" + str(lpost.loglikelihood(test_pars)))\n",
    "print(\"log-posterior: \" + str(lpost(test_pars)))"
   ]
  },
  {
   "cell_type": "code",
   "execution_count": 46,
   "metadata": {},
   "outputs": [
    {
     "name": "stdout",
     "output_type": "stream",
     "text": [
      "log-prior: 1.383646559789373\n",
      "log-likelihood: -2132.4121403001122\n",
      "log-posterior: -2131.028493740323\n"
     ]
    }
   ],
   "source": [
    "test_pars = [5.0, 2.0, 2.0]\n",
    "print(\"log-prior: \" + str(lpost.logprior(test_pars)))\n",
    "print(\"log-likelihood: \" + str(lpost.loglikelihood(test_pars)))\n",
    "print(\"log-posterior: \" + str(lpost(test_pars)))"
   ]
  },
  {
   "cell_type": "markdown",
   "metadata": {},
   "source": [
    "We can do the same parameter estimation as above, except now it's called maximum-a-posteriori instead of maximum likelihood and includes the prior (notice we set `max_post=True`):"
   ]
  },
  {
   "cell_type": "code",
   "execution_count": 47,
   "metadata": {},
   "outputs": [],
   "source": [
    "parest = PSDParEst(ps, fitmethod=\"L-BFGS-B\", max_post=True)\n",
    "res = parest.fit(lpost, starting_pars)"
   ]
  },
  {
   "cell_type": "code",
   "execution_count": 48,
   "metadata": {},
   "outputs": [
    {
     "name": "stdout",
     "output_type": "stream",
     "text": [
      "best-fit parameters:\n",
      "5.0731 +/- 1.1830\n",
      "1.9704 +/- 0.3215\n",
      "1.9478 +/- 0.2266\n"
     ]
    }
   ],
   "source": [
    "print(\"best-fit parameters:\")\n",
    "for p,e in zip(res.p_opt, res.err):\n",
    "    print(\"%.4f +/- %.4f\"%(p,e))"
   ]
  },
  {
   "cell_type": "markdown",
   "metadata": {},
   "source": [
    "The same outputs exist as for the Maximum Likelihood case:"
   ]
  },
  {
   "cell_type": "code",
   "execution_count": 49,
   "metadata": {},
   "outputs": [
    {
     "name": "stderr",
     "output_type": "stream",
     "text": [
      "The best-fit model parameters plus errors are:\n",
      "The best-fit model parameters plus errors are:\n",
      "  0) Parameter amplitude_0         : \n",
      "  0) Parameter amplitude_0         : \n",
      "5.07310              +/- 1.18298              \n",
      "5.07310              +/- 1.18298              \n",
      "[      None       None]\n",
      "[      None       None]\n",
      "  1) Parameter x_0_0               : \n",
      "  1) Parameter x_0_0               : \n",
      "1.00000              (Fixed) \n",
      "1.00000              (Fixed) \n",
      "  2) Parameter alpha_0             : \n",
      "  2) Parameter alpha_0             : \n",
      "1.97043              +/- 0.32148              \n",
      "1.97043              +/- 0.32148              \n",
      "[      None       None]\n",
      "[      None       None]\n",
      "  3) Parameter amplitude_1         : \n",
      "  3) Parameter amplitude_1         : \n",
      "1.94784              +/- 0.22661              \n",
      "1.94784              +/- 0.22661              \n",
      "[       0.0       None]\n",
      "[       0.0       None]\n",
      "\n",
      "\n",
      "\n",
      "\n",
      "Fitting statistics: \n",
      "Fitting statistics: \n",
      " -- number of data points: 1000\n",
      " -- number of data points: 1000\n",
      " -- Deviance [-2 log L] D = 4263.903517.3\n",
      " -- Deviance [-2 log L] D = 4263.903517.3\n",
      " -- The Akaike Information Criterion of the model is: 2136.7041203591184.\n",
      " -- The Akaike Information Criterion of the model is: 2136.7041203591184.\n",
      " -- The Bayesian Information Criterion of the model is: 2151.4273861960646.\n",
      " -- The Bayesian Information Criterion of the model is: 2151.4273861960646.\n",
      " -- The figure-of-merit function for this model  is: 938.562028.5f and the fit for 997 dof is 0.941386.3f\n",
      " -- The figure-of-merit function for this model  is: 938.562028.5f and the fit for 997 dof is 0.941386.3f\n",
      " -- Summed Residuals S = 56447.627360.5f\n",
      " -- Summed Residuals S = 56447.627360.5f\n",
      " -- Expected S ~ 6000.000000.5 +/- 109.544512.5\n",
      " -- Expected S ~ 6000.000000.5 +/- 109.544512.5\n"
     ]
    }
   ],
   "source": [
    "res.print_summary(lpost)"
   ]
  },
  {
   "cell_type": "markdown",
   "metadata": {},
   "source": [
    "Unlike in the maximum likelihood case, we can also *sample* from the posterior probability distribution. The method `sample` uses the [emcee](http://dfm.io/emcee/current/) package to do MCMC. \n",
    "\n",
    "**Note**: Do *not* sample from the likelihood function. This is formally incorrect and can lead to incorrect inferences about the problem, because there is no guarantee that a posterior with improper (flat, infinite) priors will be bounded!\n",
    "\n",
    "Much like the optimizer, the sampling method requires a model and a set of starting parameters `t0`. Optionally, it can be useful to also input a covariance matrix, for example from the output of the optimizer.\n",
    "\n",
    "Finally, the user should specify the number of walkers as well as the number of steps to use for both burn-in and sampling:\n"
   ]
  },
  {
   "cell_type": "code",
   "execution_count": 50,
   "metadata": {},
   "outputs": [
    {
     "name": "stderr",
     "output_type": "stream",
     "text": [
      "-- The acceptance fraction is: 0.648200.5\n",
      "INFO:MCMC summary:-- The acceptance fraction is: 0.648200.5\n",
      "R_hat for the parameters is: [0.2801976  0.00627698 0.00464012]\n",
      "INFO:MCMC summary:R_hat for the parameters is: [0.2801976  0.00627698 0.00464012]\n",
      "-- Posterior Summary of Parameters: \n",
      "\n",
      "INFO:MCMC summary:-- Posterior Summary of Parameters: \n",
      "\n",
      "parameter \t mean \t\t sd \t\t 5% \t\t 95% \n",
      "\n",
      "INFO:MCMC summary:parameter \t mean \t\t sd \t\t 5% \t\t 95% \n",
      "\n",
      "---------------------------------------------\n",
      "\n",
      "INFO:MCMC summary:---------------------------------------------\n",
      "\n",
      "theta[0] \t 5.161154936160752\t0.5309802978428597\t4.3123125664100534\t6.055963031477449\n",
      "\n",
      "INFO:MCMC summary:theta[0] \t 5.161154936160752\t0.5309802978428597\t4.3123125664100534\t6.055963031477449\n",
      "\n",
      "theta[1] \t 1.9770616618601693\t0.07947212706171852\t1.849987113149894\t2.1100754071608097\n",
      "\n",
      "INFO:MCMC summary:theta[1] \t 1.9770616618601693\t0.07947212706171852\t1.849987113149894\t2.1100754071608097\n",
      "\n",
      "theta[2] \t 1.9480164743604498\t0.06832526753376433\t1.8343600505949988\t2.0602180858628967\n",
      "\n",
      "INFO:MCMC summary:theta[2] \t 1.9480164743604498\t0.06832526753376433\t1.8343600505949988\t2.0602180858628967\n",
      "\n"
     ]
    }
   ],
   "source": [
    "sample = parest.sample(lpost, res.p_opt, cov=res.cov, nwalkers=400,\n",
    "             niter=100, burnin=300, namestr=\"psd_modeling_test\")"
   ]
  },
  {
   "cell_type": "markdown",
   "metadata": {},
   "source": [
    "The sampling method returns an object with various attributes that are useful for further analysis, for example the acceptance fraction:"
   ]
  },
  {
   "cell_type": "code",
   "execution_count": 51,
   "metadata": {},
   "outputs": [
    {
     "data": {
      "text/plain": [
       "0.6481999999999999"
      ]
     },
     "execution_count": 51,
     "metadata": {},
     "output_type": "execute_result"
    }
   ],
   "source": [
    "sample.acceptance"
   ]
  },
  {
   "cell_type": "markdown",
   "metadata": {},
   "source": [
    "Or the mean and confidence intervals of the parameters:"
   ]
  },
  {
   "cell_type": "code",
   "execution_count": 52,
   "metadata": {},
   "outputs": [
    {
     "data": {
      "text/plain": [
       "array([5.16115494, 1.97706166, 1.94801647])"
      ]
     },
     "execution_count": 52,
     "metadata": {},
     "output_type": "execute_result"
    }
   ],
   "source": [
    "sample.mean"
   ]
  },
  {
   "cell_type": "code",
   "execution_count": 53,
   "metadata": {},
   "outputs": [
    {
     "data": {
      "text/plain": [
       "array([[4.31231257, 1.84998711, 1.83436005],\n",
       "       [6.05596303, 2.11007541, 2.06021809]])"
      ]
     },
     "execution_count": 53,
     "metadata": {},
     "output_type": "execute_result"
    }
   ],
   "source": [
    "sample.ci"
   ]
  },
  {
   "cell_type": "markdown",
   "metadata": {},
   "source": [
    "The method `print_results` prints the results:"
   ]
  },
  {
   "cell_type": "code",
   "execution_count": 54,
   "metadata": {},
   "outputs": [
    {
     "name": "stderr",
     "output_type": "stream",
     "text": [
      "-- The acceptance fraction is: 0.648200.5\n",
      "-- The acceptance fraction is: 0.648200.5\n",
      "INFO:MCMC summary:-- The acceptance fraction is: 0.648200.5\n",
      "R_hat for the parameters is: [0.2801976  0.00627698 0.00464012]\n",
      "R_hat for the parameters is: [0.2801976  0.00627698 0.00464012]\n",
      "INFO:MCMC summary:R_hat for the parameters is: [0.2801976  0.00627698 0.00464012]\n",
      "-- Posterior Summary of Parameters: \n",
      "\n",
      "-- Posterior Summary of Parameters: \n",
      "\n",
      "INFO:MCMC summary:-- Posterior Summary of Parameters: \n",
      "\n",
      "parameter \t mean \t\t sd \t\t 5% \t\t 95% \n",
      "\n",
      "parameter \t mean \t\t sd \t\t 5% \t\t 95% \n",
      "\n",
      "INFO:MCMC summary:parameter \t mean \t\t sd \t\t 5% \t\t 95% \n",
      "\n",
      "---------------------------------------------\n",
      "\n",
      "---------------------------------------------\n",
      "\n",
      "INFO:MCMC summary:---------------------------------------------\n",
      "\n",
      "theta[0] \t 5.161154936160752\t0.5309802978428597\t4.3123125664100534\t6.055963031477449\n",
      "\n",
      "theta[0] \t 5.161154936160752\t0.5309802978428597\t4.3123125664100534\t6.055963031477449\n",
      "\n",
      "INFO:MCMC summary:theta[0] \t 5.161154936160752\t0.5309802978428597\t4.3123125664100534\t6.055963031477449\n",
      "\n",
      "theta[1] \t 1.9770616618601693\t0.07947212706171852\t1.849987113149894\t2.1100754071608097\n",
      "\n",
      "theta[1] \t 1.9770616618601693\t0.07947212706171852\t1.849987113149894\t2.1100754071608097\n",
      "\n",
      "INFO:MCMC summary:theta[1] \t 1.9770616618601693\t0.07947212706171852\t1.849987113149894\t2.1100754071608097\n",
      "\n",
      "theta[2] \t 1.9480164743604498\t0.06832526753376433\t1.8343600505949988\t2.0602180858628967\n",
      "\n",
      "theta[2] \t 1.9480164743604498\t0.06832526753376433\t1.8343600505949988\t2.0602180858628967\n",
      "\n",
      "INFO:MCMC summary:theta[2] \t 1.9480164743604498\t0.06832526753376433\t1.8343600505949988\t2.0602180858628967\n",
      "\n"
     ]
    }
   ],
   "source": [
    "sample.print_results()"
   ]
  },
  {
   "cell_type": "markdown",
   "metadata": {},
   "source": [
    "Similarly, the method `plot_results` produces a bunch of plots:"
   ]
  },
  {
   "cell_type": "code",
   "execution_count": 55,
   "metadata": {},
   "outputs": [
    {
     "data": {
      "image/png": "[encoded data removed]",
      "text/plain": [
       "<Figure size 547.2x547.2 with 9 Axes>"
      ]
     },
     "metadata": {
      "needs_background": "light"
     },
     "output_type": "display_data"
    }
   ],
   "source": [
    "fig = sample.plot_results(nsamples=1000, fig=None, save_plot=True,\n",
    "                    filename=\"modeling_tutorial_mcmc_corner.pdf\")"
   ]
  },
  {
   "cell_type": "markdown",
   "metadata": {},
   "source": [
    "## Calibrating Likelihood Ratio Tests\n",
    "\n",
    "In order to use likelihood ratio tests for model comparison, one must compute the p-value of obtaining a likelihood ratio at least as high as that observed given that the null hypothesis (the simpler model) is true. The distribution of likelihood ratios under that assumption will only follow an analytical distribution if\n",
    "* the models are nested, i.e. the simpler model is a special case of the more complex model *and*\n",
    "* the parameter values that transform the complex model into the simple one do not lie on the boundary of parameter space. \n",
    "\n",
    "Imagine e.g. a simple model without a QPO, and a complex model with a QPO, where in order to make the simpler model out of the more complex one you would set the QPO amplitude to zero. However, the amplitude cannot go below zero, thus the critical parameter value transforming the complex into the simple model lie on the boundary of parameter space.\n",
    "\n",
    "If these two conditions are not given, the observed likelihood ratio must be calibrated via simulations of the simpler model. In general, one should *not* simulate from the best-fit model alone: this ignores the uncertainty in the model parameters, and thus may artificially inflate the significance of the result.\n",
    "\n",
    "In the purely frequentist (maximum likelihood case), one does not know the shape of the probability distribution for the parameters. A rough approximation can be obtained by assuming the likelihood surface to be a multi-variate Gaussian, with covariances given by the inverse Fisher information. One may sample from that distribution and then simulate fake data sets using the sampled parameters. Each simulated data set will be fit with both models to compute a likelihood ratio, which is then used to build a distribution of likelihood ratios from the simpler model to compare the observed likelihood ratio to.\n",
    "\n",
    "In the Bayesian case, one may sample from the posterior for the parameters directly and then use these samples as above to create fake data sets in order to derive a posterior probability distribution for the likelihood ratios and thus a posterior predictive p-value.\n",
    "\n",
    "For the statistical background of much of this, see [Protassov et al, 2002](http://adsabs.harvard.edu/abs/2002ApJ...571..545P).\n",
    "\n",
    "Below, we set up code that will do exactly that, for both the frequentist and Bayesian case.\n"
   ]
  },
  {
   "cell_type": "code",
   "execution_count": 56,
   "metadata": {},
   "outputs": [],
   "source": [
    "import copy\n",
    "\n",
    "def _generate_model(lpost, pars):\n",
    "    \"\"\"\n",
    "    Helper function that generates a fake PSD similar to the \n",
    "    one in the data, but with different parameters.\n",
    "    \n",
    "    Parameters\n",
    "    ----------\n",
    "    lpost : instance of a Posterior or LogLikelihood subclass\n",
    "        The object containing the relevant information about the\n",
    "        data and the model\n",
    "        \n",
    "    pars : iterable\n",
    "        A list of parameters to be passed to lpost.model in oder \n",
    "        to generate a model data set.\n",
    "        \n",
    "    Returns:\n",
    "    --------\n",
    "    model_data : numpy.ndarray\n",
    "        An array of model values for each bin in lpost.x\n",
    "    \n",
    "    \"\"\"\n",
    "    # get the model\n",
    "    m = lpost.model\n",
    "\n",
    "    # reset the parameters\n",
    "    _fitter_to_model_params(m, pars)\n",
    "    \n",
    "    # make a model spectrum\n",
    "    model_data = lpost.model(lpost.x)\n",
    "    \n",
    "    return model_data\n",
    "\n",
    "def _generate_psd(ps, lpost, pars):\n",
    "    \"\"\"\n",
    "    Generate a fake power spectrum from a model.\n",
    "    \n",
    "    Parameters:\n",
    "    ----------\n",
    "    lpost : instance of a Posterior or LogLikelihood subclass\n",
    "        The object containing the relevant information about the\n",
    "        data and the model\n",
    "        \n",
    "    pars : iterable\n",
    "        A list of parameters to be passed to lpost.model in oder \n",
    "        to generate a model data set.\n",
    "        \n",
    "    Returns:\n",
    "    --------\n",
    "    sim_ps : stingray.Powerspectrum object\n",
    "        The simulated Powerspectrum object\n",
    "    \n",
    "    \"\"\"\n",
    "    \n",
    "    model_spectrum = _generate_model(lpost, pars)\n",
    "    \n",
    "      # use chi-square distribution to get fake data\n",
    "    model_powers = model_spectrum*np.random.chisquare(2*ps.m, \n",
    "                                                      size=model_spectrum.shape[0])/(2.*ps.m)\n",
    "\n",
    "    sim_ps = copy.copy(ps)\n",
    "\n",
    "    sim_ps.powers = model_powers\n",
    "            \n",
    "\n",
    "    return sim_ps\n",
    "    \n",
    "def _compute_pvalue(obs_val, sim):\n",
    "    \"\"\"\n",
    "    Compute the p-value given an observed value of a test statistic \n",
    "    and some simulations of that same test statistic.\n",
    "    \n",
    "    Parameters\n",
    "    ----------\n",
    "    obs_value : float\n",
    "        The observed value of the test statistic in question\n",
    "        \n",
    "    sim: iterable\n",
    "        A list or array of simulated values for the test statistic\n",
    "        \n",
    "    Returns\n",
    "    -------\n",
    "    pval : float [0, 1]\n",
    "        The p-value for the test statistic given the simulations.\n",
    "    \n",
    "    \"\"\"\n",
    "    \n",
    "    # cast the simulations as a numpy array\n",
    "    sim = np.array(sim)\n",
    "    \n",
    "    # find all simulations that are larger than \n",
    "    # the observed value\n",
    "    ntail = sim[sim > obs_val].shape[0]\n",
    "    \n",
    "    # divide by the total number of simulations\n",
    "    pval = ntail/sim.shape[0]\n",
    "\n",
    "    return pval\n",
    "\n",
    "def calibrate_lrt(ps, lpost1, t1, lpost2, t2, sample=None, neg=True, max_post=False, \n",
    "                  nsim=1000, niter=200, nwalker=500, burnin=200, namestr=\"test\"):\n",
    "    \n",
    "    \n",
    "    # set up the ParameterEstimation object\n",
    "    parest = PSDParEst(ps, fitmethod=\"L-BFGS-B\", max_post=False)\n",
    "\n",
    "    # compute the observed likelihood ratio\n",
    "    lrt_obs, res1, res2 = parest.compute_lrt(lpost1, t1, \n",
    "                                             lpost2, t2,\n",
    "                                             neg=neg, \n",
    "                                             max_post=max_post)\n",
    "    \n",
    "    # simulate parameter sets from the simpler model\n",
    "    if not max_post:\n",
    "        # using Maximum Likelihood, so I'm going to simulate parameters \n",
    "        # from a multivariate Gaussian\n",
    "                \n",
    "        # set up the distribution\n",
    "        mvn = scipy.stats.multivariate_normal(mean=res1.p_opt, cov=res1.cov)\n",
    "        \n",
    "        # sample parameters\n",
    "        s_all = mvn.rvs(size=nsim)\n",
    "        \n",
    "    else:\n",
    "        if sample is None:\n",
    "            # sample the posterior using MCMC\n",
    "            sample = parest.sample(lpost, res1.p_opt, cov=res1.cov, \n",
    "                                   nwalkers=nwalker, niter=niter, \n",
    "                                   burnin=burnin, namestr=namestr)\n",
    "        \n",
    "        \n",
    "        # pick nsim samples out of the posterior sample\n",
    "        s_all = sample[np.random.choice(sample.shape[0], nsim, replace=False)]\n",
    "           \n",
    "    lrt_sim = np.zeros(nsim)\n",
    "        \n",
    "    # now I can loop over all simulated parameter sets to generate a PSD\n",
    "    for i,s in enumerate(s_all):\n",
    "        \n",
    "        # generate fake PSD\n",
    "        sim_ps = _generate_psd(ps, lpost1, s)\n",
    "\n",
    "        # make LogLikelihood objects for both:\n",
    "        if not max_post:\n",
    "            sim_lpost1 = PSDLogLikelihood(sim_ps.freq, sim_ps.power,\n",
    "                                         model=lpost1.model, m=sim_ps.m)\n",
    "            sim_lpost2 = PSDLogLikelihood(sim_ps.freq, sim_ps.power, \n",
    "                                         model=lpost2.model, m=sim_ps.m)\n",
    "        else:\n",
    "            # make a Posterior object\n",
    "            sim_lpost1 = PSDPosterior(sim_ps.freq, sim_ps.power, \n",
    "                                      lpost1.model, m=sim_ps.m)\n",
    "            sim_lpost1.logprior = lpost1.logprior\n",
    "            \n",
    "            sim_lpost2 = PSDPosterior(sim_ps.freq, sim_ps.power, \n",
    "                                      lpost2.model, m=sim_ps.m)\n",
    "            sim_lpost2.logprior = lpost2.logprior\n",
    "\n",
    "            \n",
    "        parest_sim = PSDParEst(sim_ps, max_post=max_post, fitmethod=\"L-BFGS-B\")\n",
    "        \n",
    "        lrt_sim[i], _, _ = parest_sim.compute_lrt(sim_lpost1, t1, \n",
    "                                         sim_lpost2, t2, \n",
    "                                         neg=neg, \n",
    "                                         max_post=max_post)\n",
    "\n",
    "    # now I can compute the p-value:\n",
    "    pval = _compute_pvalue(lrt_obs, lrt_sim)\n",
    "    return pval"
   ]
  },
  {
   "cell_type": "code",
   "execution_count": 57,
   "metadata": {
    "scrolled": true
   },
   "outputs": [],
   "source": [
    "pval = calibrate_lrt(ps, loglike, starting_pars, \n",
    "                     loglike_bplc, bplc_start_pars, \n",
    "                     max_post=False, nsim=100)"
   ]
  },
  {
   "cell_type": "code",
   "execution_count": 58,
   "metadata": {},
   "outputs": [
    {
     "name": "stdout",
     "output_type": "stream",
     "text": [
      "The p-value for rejecting the simpler model is: 0.79\n"
     ]
    }
   ],
   "source": [
    "print(\"The p-value for rejecting the simpler model is: \" + str(pval))"
   ]
  },
  {
   "cell_type": "markdown",
   "metadata": {},
   "source": [
    "As expected, the p-value for rejecting the powerlaw model is fairly large: since we simulated from that model, we would be surprised if it generated a small p-value, causing us to reject this model (note, however, that if the null hypothesis is true, the p-value will be uniformely distributed between 0 and 1. By definition, then, you will get a p-value smaller or equal to 0.01 in approximately one out of a hundred cases)\n",
    "\n",
    "We can do the same with the Bayesian model, in which case the result is called a *posterior predictive p-value*, which, in turn, is often used in posterior model checking (not yet implemented!).\n",
    "\n",
    "We have not yet defined a `PSDPosterior` object for the bent power law model, so let's do that. First, let's define some priors:"
   ]
  },
  {
   "cell_type": "code",
   "execution_count": 59,
   "metadata": {},
   "outputs": [],
   "source": [
    "import scipy.stats\n",
    "\n",
    "# flat prior for the power law indices\n",
    "p_alpha1 = lambda alpha: ((-1. <= alpha) & (alpha <= 5.))\n",
    "p_alpha2 = lambda alpha: ((-1. <= alpha) & (alpha <= 5.))\n",
    "\n",
    "# flat prior for the break frequency\n",
    "p_x_break = lambda xbreak: ((0.01 <= xbreak) & (10.0 >= xbreak))\n",
    "\n",
    "# flat prior for the power law amplitude\n",
    "p_amplitude = lambda amplitude: ((0.01 <= amplitude) & (amplitude <= 10.0))\n",
    "\n",
    "# normal prior for the white noise parameter\n",
    "p_whitenoise = lambda white_noise: scipy.stats.norm(2.0, 0.1).pdf(white_noise)\n",
    "\n",
    "priors = {}\n",
    "priors[\"alpha_1_0\"] = p_alpha\n",
    "priors[\"alpha_2_0\"] = p_alpha\n",
    "\n",
    "priors[\"amplitude_0\"] = p_amplitude\n",
    "priors[\"amplitude_1\"] = p_whitenoise\n",
    "priors[\"x_break_0\"] = p_x_break\n"
   ]
  },
  {
   "cell_type": "markdown",
   "metadata": {},
   "source": [
    "Now we can set up the `PSDPosterior` object:"
   ]
  },
  {
   "cell_type": "code",
   "execution_count": 60,
   "metadata": {},
   "outputs": [],
   "source": [
    "lpost_bplc = PSDPosterior(ps.freq, ps.power, bplc, priors=priors, m=ps.m)"
   ]
  },
  {
   "cell_type": "code",
   "execution_count": 61,
   "metadata": {},
   "outputs": [
    {
     "data": {
      "text/plain": [
       "-2205.533522208609"
      ]
     },
     "execution_count": 61,
     "metadata": {},
     "output_type": "execute_result"
    }
   ],
   "source": [
    "lpost_bplc(bplc_start_pars)"
   ]
  },
  {
   "cell_type": "markdown",
   "metadata": {},
   "source": [
    "And do the posterior predictive p-value. Since we've already sampled from the simple model, we can pass that sample to the `calibrate_lrt` function, in order to cut down on computation time (if the keyword `sample` is not given, it will automatically run MCMC:"
   ]
  },
  {
   "cell_type": "code",
   "execution_count": 62,
   "metadata": {
    "scrolled": true
   },
   "outputs": [],
   "source": [
    "pval = calibrate_lrt(ps, lpost, starting_pars, \n",
    "                     lpost_bplc, bplc_start_pars, \n",
    "                     sample=sample.samples,\n",
    "                     max_post=True, nsim=100)"
   ]
  },
  {
   "cell_type": "code",
   "execution_count": 63,
   "metadata": {},
   "outputs": [
    {
     "name": "stdout",
     "output_type": "stream",
     "text": [
      "The posterior predictive p-value is: p = 0.95\n"
     ]
    }
   ],
   "source": [
    "print(\"The posterior predictive p-value is: p = \" + str(pval))"
   ]
  },
  {
   "cell_type": "markdown",
   "metadata": {},
   "source": [
    "Again, we find that the p-value does not suggest rejecting the powerlaw model.\n",
    "\n",
    "Of course, a slightly modified version is implemented in `stingray` as a subclass of the `PSDParEst` class:"
   ]
  },
  {
   "cell_type": "code",
   "execution_count": 64,
   "metadata": {},
   "outputs": [],
   "source": [
    "from stingray.modeling import PSDParEst"
   ]
  },
  {
   "cell_type": "code",
   "execution_count": 65,
   "metadata": {},
   "outputs": [],
   "source": [
    "parest = PSDParEst(ps, fitmethod=\"L-BFGS-B\")"
   ]
  },
  {
   "cell_type": "code",
   "execution_count": 66,
   "metadata": {
    "scrolled": true
   },
   "outputs": [],
   "source": [
    "pval = parest.calibrate_lrt(lpost, starting_pars, lpost_bplc, bplc_start_pars, \n",
    "                   sample=sample.samples, nsim=100, max_post=True, seed=200)"
   ]
  },
  {
   "cell_type": "code",
   "execution_count": 67,
   "metadata": {},
   "outputs": [
    {
     "name": "stdout",
     "output_type": "stream",
     "text": [
      "0.44\n"
     ]
    }
   ],
   "source": [
    "print(pval)"
   ]
  },
  {
   "cell_type": "markdown",
   "metadata": {},
   "source": [
    "## Bayesian-ish QPO Searches\n",
    "\n",
    "When searching for quasi-periodic oscillations (QPOs) in light curves that are not constant (for example because they are bursts or have other types of variability), one must take care that the variable background is accurately modelled (most standard tools assume that the light curve is constant). \n",
    "\n",
    "In [Vaughan et al, 2010](http://adsabs.harvard.edu/abs/2010MNRAS.402..307V), a method was introduced to search for QPOs in the presence of red noise (stochastic variability), and in [Huppenkothen et al, 2013](http://adsabs.harvard.edu/abs/2013ApJ...768...87H) it was extended to magnetar bursts, and in [Inglis et al, 2015](http://adsabs.harvard.edu/abs/2015ApJ...798..108I) and [Inglis et al, 2016](http://adsabs.harvard.edu/abs/2016ApJ...833..284I) a similar approach was used to find QPOs in solar flares.\n",
    "\n",
    "Based on a model for the broadband spectral noise, the algorithm finds the highest outlier in a test statistic based on the data-model residuals (under the assumption that if the broadband model is correct, the test statistic $T_R = \\max_j(2 D_j/m_j)$ for $j$ power spectral bins with powers $D_j$ and model powers $m_j$ will be distributed following a $\\chi^2$ distribution with two degrees of freedom). The observed test statistic $T_R$ is then compared to a theoretical distribution based on simulated power spectra without an outlier in order to compute a posterior predictive p-value as above for the likelihood ratio.\n",
    "\n",
    "Since the concept is very similar to that above, we do not show the full code here. Instead, the p-value can be calculated using the method `calibrate_highest_outlier`, which belongs to the `PSDParEst` class:"
   ]
  },
  {
   "cell_type": "code",
   "execution_count": 68,
   "metadata": {},
   "outputs": [],
   "source": [
    "# compute highest outlier in the data, and the frequency and index\n",
    "# where that power occurs\n",
    "max_power, max_freq, max_ind = parest._compute_highest_outlier(lpost, res)"
   ]
  },
  {
   "cell_type": "code",
   "execution_count": 69,
   "metadata": {},
   "outputs": [
    {
     "data": {
      "text/plain": [
       "array([13.19799189])"
      ]
     },
     "execution_count": 69,
     "metadata": {},
     "output_type": "execute_result"
    }
   ],
   "source": [
    "max_power"
   ]
  },
  {
   "cell_type": "code",
   "execution_count": 70,
   "metadata": {
    "scrolled": true
   },
   "outputs": [
    {
     "name": "stderr",
     "output_type": "stream",
     "text": [
      "WARNING:root:Fitting method BFGS cannot incorporate the bounds you set!\n",
      "WARNING:root:Fitting method BFGS cannot incorporate the bounds you set!\n",
      "WARNING:root:Fitting method BFGS cannot incorporate the bounds you set!\n",
      "WARNING:root:Fitting method BFGS cannot incorporate the bounds you set!\n",
      "WARNING:root:Fitting method BFGS cannot incorporate the bounds you set!\n",
      "WARNING:root:Fitting method BFGS cannot incorporate the bounds you set!\n",
      "WARNING:root:Fitting method BFGS cannot incorporate the bounds you set!\n",
      "WARNING:root:Fitting method BFGS cannot incorporate the bounds you set!\n",
      "WARNING:root:Fitting method BFGS cannot incorporate the bounds you set!\n",
      "WARNING:root:Fitting method BFGS cannot incorporate the bounds you set!\n",
      "WARNING:root:Fitting method BFGS cannot incorporate the bounds you set!\n",
      "WARNING:root:Fitting method BFGS cannot incorporate the bounds you set!\n",
      "WARNING:root:Fitting method BFGS cannot incorporate the bounds you set!\n",
      "WARNING:root:Fitting method BFGS cannot incorporate the bounds you set!\n",
      "WARNING:root:Fitting method BFGS cannot incorporate the bounds you set!\n",
      "WARNING:root:Fitting method BFGS cannot incorporate the bounds you set!\n",
      "WARNING:root:Fitting method BFGS cannot incorporate the bounds you set!\n",
      "WARNING:root:Fitting method BFGS cannot incorporate the bounds you set!\n",
      "WARNING:root:Fitting method BFGS cannot incorporate the bounds you set!\n",
      "WARNING:root:Fitting method BFGS cannot incorporate the bounds you set!\n",
      "WARNING:root:Fitting method BFGS cannot incorporate the bounds you set!\n",
      "WARNING:root:Fitting method BFGS cannot incorporate the bounds you set!\n",
      "WARNING:root:Fitting method BFGS cannot incorporate the bounds you set!\n",
      "WARNING:root:Fitting method BFGS cannot incorporate the bounds you set!\n",
      "WARNING:root:Fitting method BFGS cannot incorporate the bounds you set!\n",
      "WARNING:root:Fitting method BFGS cannot incorporate the bounds you set!\n",
      "WARNING:root:Fitting method BFGS cannot incorporate the bounds you set!\n",
      "WARNING:root:Fitting method BFGS cannot incorporate the bounds you set!\n",
      "WARNING:root:Fitting method BFGS cannot incorporate the bounds you set!\n",
      "WARNING:root:Fitting method BFGS cannot incorporate the bounds you set!\n",
      "WARNING:root:Fitting method BFGS cannot incorporate the bounds you set!\n",
      "WARNING:root:Fitting method BFGS cannot incorporate the bounds you set!\n",
      "WARNING:root:Fitting method BFGS cannot incorporate the bounds you set!\n",
      "WARNING:root:Fitting method BFGS cannot incorporate the bounds you set!\n",
      "WARNING:root:Fitting method BFGS cannot incorporate the bounds you set!\n",
      "WARNING:root:Fitting method BFGS cannot incorporate the bounds you set!\n",
      "WARNING:root:Fitting method BFGS cannot incorporate the bounds you set!\n",
      "WARNING:root:Fitting method BFGS cannot incorporate the bounds you set!\n",
      "WARNING:root:Fitting method BFGS cannot incorporate the bounds you set!\n",
      "WARNING:root:Fitting method BFGS cannot incorporate the bounds you set!\n",
      "WARNING:root:Fitting method BFGS cannot incorporate the bounds you set!\n",
      "WARNING:root:Fitting method BFGS cannot incorporate the bounds you set!\n",
      "WARNING:root:Fitting method BFGS cannot incorporate the bounds you set!\n",
      "WARNING:root:Fitting method BFGS cannot incorporate the bounds you set!\n",
      "WARNING:root:Fitting method BFGS cannot incorporate the bounds you set!\n",
      "WARNING:root:Fitting method BFGS cannot incorporate the bounds you set!\n",
      "WARNING:root:Fitting method BFGS cannot incorporate the bounds you set!\n",
      "WARNING:root:Fitting method BFGS cannot incorporate the bounds you set!\n",
      "WARNING:root:Fitting method BFGS cannot incorporate the bounds you set!\n",
      "WARNING:root:Fitting method BFGS cannot incorporate the bounds you set!\n",
      "WARNING:root:Fitting method BFGS cannot incorporate the bounds you set!\n",
      "WARNING:root:Fitting method BFGS cannot incorporate the bounds you set!\n",
      "WARNING:root:Fitting method BFGS cannot incorporate the bounds you set!\n",
      "WARNING:root:Fitting method BFGS cannot incorporate the bounds you set!\n",
      "WARNING:root:Fitting method BFGS cannot incorporate the bounds you set!\n",
      "WARNING:root:Fitting method BFGS cannot incorporate the bounds you set!\n",
      "WARNING:root:Fitting method BFGS cannot incorporate the bounds you set!\n",
      "WARNING:root:Fitting method BFGS cannot incorporate the bounds you set!\n",
      "WARNING:root:Fitting method BFGS cannot incorporate the bounds you set!\n",
      "WARNING:root:Fitting method BFGS cannot incorporate the bounds you set!\n",
      "WARNING:root:Fitting method BFGS cannot incorporate the bounds you set!\n",
      "WARNING:root:Fitting method BFGS cannot incorporate the bounds you set!\n",
      "WARNING:root:Fitting method BFGS cannot incorporate the bounds you set!\n",
      "WARNING:root:Fitting method BFGS cannot incorporate the bounds you set!\n",
      "WARNING:root:Fitting method BFGS cannot incorporate the bounds you set!\n",
      "WARNING:root:Fitting method BFGS cannot incorporate the bounds you set!\n",
      "WARNING:root:Fitting method BFGS cannot incorporate the bounds you set!\n",
      "WARNING:root:Fitting method BFGS cannot incorporate the bounds you set!\n",
      "WARNING:root:Fitting method BFGS cannot incorporate the bounds you set!\n",
      "WARNING:root:Fitting method BFGS cannot incorporate the bounds you set!\n",
      "WARNING:root:Fitting method BFGS cannot incorporate the bounds you set!\n",
      "WARNING:root:Fitting method BFGS cannot incorporate the bounds you set!\n",
      "WARNING:root:Fitting method BFGS cannot incorporate the bounds you set!\n",
      "WARNING:root:Fitting method BFGS cannot incorporate the bounds you set!\n",
      "WARNING:root:Fitting method BFGS cannot incorporate the bounds you set!\n",
      "WARNING:root:Fitting method BFGS cannot incorporate the bounds you set!\n",
      "WARNING:root:Fitting method BFGS cannot incorporate the bounds you set!\n",
      "WARNING:root:Fitting method BFGS cannot incorporate the bounds you set!\n",
      "WARNING:root:Fitting method BFGS cannot incorporate the bounds you set!\n",
      "WARNING:root:Fitting method BFGS cannot incorporate the bounds you set!\n",
      "WARNING:root:Fitting method BFGS cannot incorporate the bounds you set!\n",
      "WARNING:root:Fitting method BFGS cannot incorporate the bounds you set!\n",
      "WARNING:root:Fitting method BFGS cannot incorporate the bounds you set!\n",
      "WARNING:root:Fitting method BFGS cannot incorporate the bounds you set!\n",
      "WARNING:root:Fitting method BFGS cannot incorporate the bounds you set!\n",
      "WARNING:root:Fitting method BFGS cannot incorporate the bounds you set!\n",
      "WARNING:root:Fitting method BFGS cannot incorporate the bounds you set!\n",
      "WARNING:root:Fitting method BFGS cannot incorporate the bounds you set!\n",
      "WARNING:root:Fitting method BFGS cannot incorporate the bounds you set!\n",
      "WARNING:root:Fitting method BFGS cannot incorporate the bounds you set!\n",
      "WARNING:root:Fitting method BFGS cannot incorporate the bounds you set!\n",
      "WARNING:root:Fitting method BFGS cannot incorporate the bounds you set!\n",
      "WARNING:root:Fitting method BFGS cannot incorporate the bounds you set!\n",
      "WARNING:root:Fitting method BFGS cannot incorporate the bounds you set!\n",
      "WARNING:root:Fitting method BFGS cannot incorporate the bounds you set!\n",
      "WARNING:root:Fitting method BFGS cannot incorporate the bounds you set!\n",
      "WARNING:root:Fitting method BFGS cannot incorporate the bounds you set!\n",
      "WARNING:root:Fitting method BFGS cannot incorporate the bounds you set!\n",
      "WARNING:root:Fitting method BFGS cannot incorporate the bounds you set!\n",
      "WARNING:root:Fitting method BFGS cannot incorporate the bounds you set!\n"
     ]
    }
   ],
   "source": [
    "pval = parest.calibrate_highest_outlier(lpost, starting_pars, sample=sample,\n",
    "                                  max_post=True,\n",
    "                                  nsim=100, niter=200, nwalkers=500,\n",
    "                                  burnin=200, namestr=\"test\")"
   ]
  },
  {
   "cell_type": "code",
   "execution_count": 71,
   "metadata": {},
   "outputs": [
    {
     "data": {
      "text/plain": [
       "0.73"
      ]
     },
     "execution_count": 71,
     "metadata": {},
     "output_type": "execute_result"
    }
   ],
   "source": [
    "pval"
   ]
  },
  {
   "cell_type": "markdown",
   "metadata": {},
   "source": [
    "## Convenience Functions\n",
    "\n",
    "For convenience, we have implemented some simple functions to reduce overhead with having to instantiate objects of the various classes.\n",
    "\n",
    "Note that these convenience function use similar approaches and guesses in all cases; this might work for some simple quicklook analysis, but when preparing publication-ready results, one should approach the analysis with more care and make sure the options chosen are appropriate for the problem at hand.\n",
    "\n",
    "### Fitting a power spectrum with some model\n",
    "\n",
    "The code above allows for a lot of freedom in building an appropriate model for your application. However, in everyday life, one might occasionally want to do a quick fit for various applications, without having to go too much into details. Below is a convenience function written for exactly that purpose.\n",
    "\n",
    "Please note that while this aims to use reasonable defaults, this is unlikely to produce publication-ready results!\n",
    "\n",
    "So let's fit a power law and a constant to some data, which we'll create below:"
   ]
  },
  {
   "cell_type": "code",
   "execution_count": 72,
   "metadata": {},
   "outputs": [],
   "source": [
    "from stingray import Powerspectrum\n",
    "\n",
    "m = 1\n",
    "nfreq = 100000\n",
    "freq = np.linspace(1, 1000, nfreq)\n",
    "\n",
    "np.random.seed(100)  # set the seed for the random number generator\n",
    "noise = np.random.exponential(size=nfreq)\n",
    "\n",
    "model = models.PowerLaw1D() + models.Const1D()\n",
    "model.x_0_0.fixed = True\n",
    "\n",
    "alpha_0 = 2.0\n",
    "amplitude_0 = 100.0\n",
    "amplitude_1 = 2.0\n",
    "\n",
    "model.alpha_0 = alpha_0\n",
    "model.amplitude_0 = amplitude_0\n",
    "model.amplitude_1 = amplitude_1\n",
    "\n",
    "p = model(freq)\n",
    "power = noise * p\n",
    "\n",
    "ps = Powerspectrum()\n",
    "ps.freq = freq\n",
    "ps.power = power\n",
    "ps.m = m\n",
    "ps.df = freq[1] - freq[0]\n",
    "ps.norm = \"leahy\"\n"
   ]
  },
  {
   "cell_type": "markdown",
   "metadata": {},
   "source": [
    "What does this data set look like?"
   ]
  },
  {
   "cell_type": "code",
   "execution_count": 73,
   "metadata": {},
   "outputs": [
    {
     "data": {
      "text/plain": [
       "[<matplotlib.lines.Line2D at 0x7fa4169d0d50>]"
      ]
     },
     "execution_count": 73,
     "metadata": {},
     "output_type": "execute_result"
    },
    {
     "data": {
      "image/png": "[encoded data removed]",
      "text/plain": [
       "<Figure size 432x288 with 1 Axes>"
      ]
     },
     "metadata": {
      "needs_background": "light"
     },
     "output_type": "display_data"
    }
   ],
   "source": [
    "plt.figure()\n",
    "plt.loglog(ps.freq, ps.power, linestyle=\"steps-mid\", lw=2, color=\"black\")"
   ]
  },
  {
   "cell_type": "markdown",
   "metadata": {},
   "source": [
    "In order to fit this, we'll write a convenience function that can take the power spectrum, a model, some starting parameters and just run with it:"
   ]
  },
  {
   "cell_type": "code",
   "execution_count": 74,
   "metadata": {},
   "outputs": [],
   "source": [
    "from stingray.modeling import PSDLogLikelihood, PSDPosterior, PSDParEst\n",
    "\n",
    "def fit_powerspectrum(ps, model, starting_pars, max_post=False, priors=None,\n",
    "                      fitmethod=\"L-BFGS-B\"):\n",
    "    \n",
    "    if priors:\n",
    "        lpost = PSDPosterior(ps, model, priors=priors)\n",
    "    else:\n",
    "        lpost = PSDLogLikelihood(ps.freq, ps.power, model, m=ps.m)\n",
    "\n",
    "    parest = PSDParEst(ps, fitmethod=fitmethod, max_post=max_post)\n",
    "    res = parest.fit(lpost, starting_pars, neg=True)\n",
    "\n",
    "    return parest, res\n"
   ]
  },
  {
   "cell_type": "markdown",
   "metadata": {},
   "source": [
    "Let's see if it works. We've already defined our model above, but to be explicit, let's define it again:"
   ]
  },
  {
   "cell_type": "code",
   "execution_count": 75,
   "metadata": {},
   "outputs": [],
   "source": [
    "model_to_test = models.PowerLaw1D() + models.Const1D()\n",
    "model_to_test.x_0_0.fixed = True"
   ]
  },
  {
   "cell_type": "markdown",
   "metadata": {},
   "source": [
    "Now we just need some starting parameters:"
   ]
  },
  {
   "cell_type": "code",
   "execution_count": 76,
   "metadata": {},
   "outputs": [],
   "source": [
    "t0 = [80, 1.5, 2.5]"
   ]
  },
  {
   "cell_type": "code",
   "execution_count": 77,
   "metadata": {},
   "outputs": [],
   "source": [
    "parest, res = fit_powerspectrum(ps, model_to_test, t0)"
   ]
  },
  {
   "cell_type": "code",
   "execution_count": 78,
   "metadata": {},
   "outputs": [
    {
     "data": {
      "text/plain": [
       "array([109.14539343,   2.07102572,   2.00200532])"
      ]
     },
     "execution_count": 78,
     "metadata": {},
     "output_type": "execute_result"
    }
   ],
   "source": [
    "res.p_opt"
   ]
  },
  {
   "cell_type": "markdown",
   "metadata": {},
   "source": [
    "Looks like it worked! Let's plot the result, too:"
   ]
  },
  {
   "cell_type": "code",
   "execution_count": 79,
   "metadata": {},
   "outputs": [
    {
     "data": {
      "text/plain": [
       "[<matplotlib.lines.Line2D at 0x7fa3f84642d0>]"
      ]
     },
     "execution_count": 79,
     "metadata": {},
     "output_type": "execute_result"
    },
    {
     "data": {
      "text/plain": [
       "<Figure size 432x288 with 0 Axes>"
      ]
     },
     "metadata": {},
     "output_type": "display_data"
    },
    {
     "data": {
      "image/png": "[encoded data removed]",
      "text/plain": [
       "<Figure size 432x288 with 1 Axes>"
      ]
     },
     "metadata": {
      "needs_background": "light"
     },
     "output_type": "display_data"
    }
   ],
   "source": [
    "plt.figure()\n",
    "plt.figure()\n",
    "plt.loglog(ps.freq, ps.power, linestyle=\"steps-mid\", lw=2, color=\"black\")\n",
    "plt.plot(ps.freq, res.mfit, lw=3, color=\"red\")"
   ]
  },
  {
   "cell_type": "markdown",
   "metadata": {},
   "source": [
    "You can find the function in the `scripts` sub-module:"
   ]
  },
  {
   "cell_type": "code",
   "execution_count": 80,
   "metadata": {},
   "outputs": [],
   "source": [
    "from stingray.modeling.scripts import fit_powerspectrum"
   ]
  },
  {
   "cell_type": "code",
   "execution_count": 81,
   "metadata": {},
   "outputs": [
    {
     "data": {
      "text/plain": [
       "array([108.73302653,   2.06899763,   2.00199174])"
      ]
     },
     "execution_count": 81,
     "metadata": {},
     "output_type": "execute_result"
    }
   ],
   "source": [
    "parest, res = fit_powerspectrum(ps, model_to_test, t0)\n",
    "res.p_opt"
   ]
  },
  {
   "cell_type": "markdown",
   "metadata": {},
   "source": [
    "### Fitting Lorentzians\n",
    "\n",
    "Fitting Lorentzians to power spectra is a routine task for most astronomers working with power spectra, hence there is a function that can produce either Maximum Likelihood or Maximum-A-Posteriori fits of the data."
   ]
  },
  {
   "cell_type": "code",
   "execution_count": 82,
   "metadata": {},
   "outputs": [],
   "source": [
    "l = models.Lorentz1D"
   ]
  },
  {
   "cell_type": "code",
   "execution_count": 83,
   "metadata": {},
   "outputs": [
    {
     "data": {
      "text/plain": [
       "('amplitude', 'x_0', 'fwhm')"
      ]
     },
     "execution_count": 83,
     "metadata": {},
     "output_type": "execute_result"
    }
   ],
   "source": [
    "l.param_names"
   ]
  },
  {
   "cell_type": "code",
   "execution_count": 84,
   "metadata": {},
   "outputs": [],
   "source": [
    "def fit_lorentzians(ps, nlor, starting_pars, fit_whitenoise=True, max_post=False, priors=None,\n",
    "                    fitmethod=\"L-BFGS-B\"):\n",
    "    \n",
    "    model = models.Lorentz1D()\n",
    "    \n",
    "    if nlor > 1:\n",
    "        for i in range(nlor-1):\n",
    "            model += models.Lorentz1D()\n",
    "            \n",
    "    if fit_whitenoise:\n",
    "        model += models.Const1D()\n",
    "    \n",
    "    parest = PSDParEst(ps, fitmethod=fitmethod, max_post=max_post)\n",
    "    lpost = PSDPosterior(ps.freq, ps.power, model, priors=priors, m=ps.m)\n",
    "    res = parest.fit(lpost, starting_pars, neg=True)\n",
    "    \n",
    "    return parest, res"
   ]
  },
  {
   "cell_type": "markdown",
   "metadata": {},
   "source": [
    "Let's make a dataset so we can test it!"
   ]
  },
  {
   "cell_type": "code",
   "execution_count": 85,
   "metadata": {},
   "outputs": [
    {
     "data": {
      "text/plain": [
       "[<matplotlib.lines.Line2D at 0x7fa3fac95b50>]"
      ]
     },
     "execution_count": 85,
     "metadata": {},
     "output_type": "execute_result"
    },
    {
     "data": {
      "image/png": "[encoded data removed]",
      "text/plain": [
       "<Figure size 432x288 with 1 Axes>"
      ]
     },
     "metadata": {
      "needs_background": "light"
     },
     "output_type": "display_data"
    }
   ],
   "source": [
    "np.random.seed(400)\n",
    "nlor = 3\n",
    "\n",
    "x_0_0 = 0.5\n",
    "x_0_1 = 2.0\n",
    "x_0_2 = 7.5\n",
    "\n",
    "amplitude_0 = 150.0\n",
    "amplitude_1 = 50.0\n",
    "amplitude_2 = 15.0\n",
    "\n",
    "fwhm_0 = 0.1\n",
    "fwhm_1 = 1.0\n",
    "fwhm_2 = 0.5\n",
    "\n",
    "whitenoise = 2.0\n",
    "\n",
    "model = models.Lorentz1D(amplitude_0, x_0_0, fwhm_0) + \\\n",
    "        models.Lorentz1D(amplitude_1, x_0_1, fwhm_1) + \\\n",
    "        models.Lorentz1D(amplitude_2, x_0_2, fwhm_2) + \\\n",
    "        models.Const1D(whitenoise)\n",
    "        \n",
    "p = model(ps.freq)\n",
    "noise = np.random.exponential(size=len(ps.freq))\n",
    "\n",
    "power = p*noise\n",
    "\n",
    "plt.figure()\n",
    "plt.loglog(ps.freq, power, lw=1, linestyle=\"steps-mid\", c=\"black\")\n",
    "plt.loglog(ps.freq, p, lw=3, color=\"red\")"
   ]
  },
  {
   "cell_type": "markdown",
   "metadata": {},
   "source": [
    "Let's make this into a `Powerspectrum` object:"
   ]
  },
  {
   "cell_type": "code",
   "execution_count": 86,
   "metadata": {},
   "outputs": [],
   "source": [
    "import copy"
   ]
  },
  {
   "cell_type": "code",
   "execution_count": 87,
   "metadata": {},
   "outputs": [],
   "source": [
    "ps_new = copy.copy(ps)"
   ]
  },
  {
   "cell_type": "code",
   "execution_count": 88,
   "metadata": {},
   "outputs": [],
   "source": [
    "ps_new.power = power"
   ]
  },
  {
   "cell_type": "markdown",
   "metadata": {},
   "source": [
    "So now we can fit this model with our new function, but first, we need to define the starting parameters for our fit. The starting parameters will be `[amplitude, x_0, fwhm]` for each component plus the white noise component at the end:"
   ]
  },
  {
   "cell_type": "code",
   "execution_count": 89,
   "metadata": {},
   "outputs": [],
   "source": [
    "t0 = [150, 0.4, 0.2, 50, 2.3, 0.6, 20, 8.0, 0.4, 2.1]\n",
    "parest, res = fit_lorentzians(ps_new, nlor, t0)"
   ]
  },
  {
   "cell_type": "markdown",
   "metadata": {},
   "source": [
    "Let's look at the output:"
   ]
  },
  {
   "cell_type": "code",
   "execution_count": 90,
   "metadata": {},
   "outputs": [
    {
     "data": {
      "text/plain": [
       "array([1.49011481e+02, 1.05992444e+00, 6.20306814e-06, 4.56499163e+01,\n",
       "       1.89622091e+00, 1.11341280e+00, 1.04640422e+01, 7.49961790e+00,\n",
       "       6.34174030e-01, 1.99424891e+00])"
      ]
     },
     "execution_count": 90,
     "metadata": {},
     "output_type": "execute_result"
    }
   ],
   "source": [
    "res.p_opt"
   ]
  },
  {
   "cell_type": "markdown",
   "metadata": {},
   "source": [
    "Cool, that seems to work! For convenience `PSDParEst` also has a plotting function:"
   ]
  },
  {
   "cell_type": "code",
   "execution_count": 91,
   "metadata": {},
   "outputs": [
    {
     "data": {
      "text/plain": [
       "100000"
      ]
     },
     "execution_count": 91,
     "metadata": {},
     "output_type": "execute_result"
    }
   ],
   "source": [
    "len(res.mfit)"
   ]
  },
  {
   "cell_type": "code",
   "execution_count": 92,
   "metadata": {},
   "outputs": [
    {
     "data": {
      "text/plain": [
       "100000"
      ]
     },
     "execution_count": 92,
     "metadata": {},
     "output_type": "execute_result"
    }
   ],
   "source": [
    "len(ps.freq)"
   ]
  },
  {
   "cell_type": "code",
   "execution_count": 93,
   "metadata": {},
   "outputs": [
    {
     "data": {
      "image/png": "[encoded data removed]",
      "text/plain": [
       "<Figure size 864x720 with 2 Axes>"
      ]
     },
     "metadata": {
      "needs_background": "light"
     },
     "output_type": "display_data"
    }
   ],
   "source": [
    "parest.plotfits(res, save_plot=False, namestr=\"lorentzian_test\")"
   ]
  },
  {
   "cell_type": "markdown",
   "metadata": {},
   "source": [
    "The function exists in the library as well for ease of use:"
   ]
  },
  {
   "cell_type": "code",
   "execution_count": 94,
   "metadata": {},
   "outputs": [],
   "source": [
    "from stingray.modeling import fit_lorentzians"
   ]
  },
  {
   "cell_type": "code",
   "execution_count": 95,
   "metadata": {},
   "outputs": [],
   "source": [
    "parest, res = fit_lorentzians(ps_new, nlor, t0)"
   ]
  },
  {
   "cell_type": "code",
   "execution_count": 96,
   "metadata": {},
   "outputs": [
    {
     "data": {
      "text/plain": [
       "array([147.80256122,  -0.43239436,   0.15355177,  40.22597459,\n",
       "         1.89532905,   1.19825642,  10.56343667,   7.49883371,\n",
       "         0.63377429,   1.99426308])"
      ]
     },
     "execution_count": 96,
     "metadata": {},
     "output_type": "execute_result"
    }
   ],
   "source": [
    "res.p_opt"
   ]
  }
 ],
 "metadata": {
  "kernelspec": {
   "display_name": "Python 3",
   "language": "python",
   "name": "python3"
  },
  "language_info": {
   "codemirror_mode": {
    "name": "ipython",
    "version": 3
   },
   "file_extension": ".py",
   "mimetype": "text/x-python",
   "name": "python",
   "nbconvert_exporter": "python",
   "pygments_lexer": "ipython3",
   "version": "3.7.5"
  }
 },
 "nbformat": 4,
 "nbformat_minor": 1
}
